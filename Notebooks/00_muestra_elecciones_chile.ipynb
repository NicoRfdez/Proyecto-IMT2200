{
 "cells": [
  {
   "cell_type": "markdown",
   "id": "6164e17c-2df8-4f0d-8b25-e5913f12f16d",
   "metadata": {},
   "source": [
    "# Muestra de datos: #EleccionesChile\n",
    "**Objetivo:** generar una muestra pequeña y representativa (100–300 filas) de tweets sobre el tema “elecciones en Chile” para demostrar factibilidad de recolección y analizar el esquema de variables."
   ]
  },
  {
   "cell_type": "code",
   "execution_count": 19,
   "id": "62da9d54-4fb5-4038-91d0-467418ee5a28",
   "metadata": {},
   "outputs": [
    {
     "name": "stdout",
     "output_type": "stream",
     "text": [
      "Total de IDs: 522575\n"
     ]
    },
    {
     "data": {
      "text/html": [
       "<div>\n",
       "<style scoped>\n",
       "    .dataframe tbody tr th:only-of-type {\n",
       "        vertical-align: middle;\n",
       "    }\n",
       "\n",
       "    .dataframe tbody tr th {\n",
       "        vertical-align: top;\n",
       "    }\n",
       "\n",
       "    .dataframe thead th {\n",
       "        text-align: right;\n",
       "    }\n",
       "</style>\n",
       "<table border=\"1\" class=\"dataframe\">\n",
       "  <thead>\n",
       "    <tr style=\"text-align: right;\">\n",
       "      <th></th>\n",
       "      <th>tweet_id</th>\n",
       "    </tr>\n",
       "  </thead>\n",
       "  <tbody>\n",
       "    <tr>\n",
       "      <th>146732</th>\n",
       "      <td>1320254229274046466</td>\n",
       "    </tr>\n",
       "    <tr>\n",
       "      <th>2891</th>\n",
       "      <td>1316469073723756544</td>\n",
       "    </tr>\n",
       "    <tr>\n",
       "      <th>70358</th>\n",
       "      <td>1318664729120964611</td>\n",
       "    </tr>\n",
       "    <tr>\n",
       "      <th>212169</th>\n",
       "      <td>1320426627965325318</td>\n",
       "    </tr>\n",
       "    <tr>\n",
       "      <th>317684</th>\n",
       "      <td>1320549539431014401</td>\n",
       "    </tr>\n",
       "  </tbody>\n",
       "</table>\n",
       "</div>"
      ],
      "text/plain": [
       "                   tweet_id\n",
       "146732  1320254229274046466\n",
       "2891    1316469073723756544\n",
       "70358   1318664729120964611\n",
       "212169  1320426627965325318\n",
       "317684  1320549539431014401"
      ]
     },
     "execution_count": 19,
     "metadata": {},
     "output_type": "execute_result"
    }
   ],
   "source": [
    "import pandas as pd\n",
    "\n",
    "#Archivos con IDs de tweets\n",
    "file1 = \"dataverse_files/Plebiscito_Constitucional_Chile_2020_02.txt\"\n",
    "file2 = \"dataverse_files/Plebiscito_Constitucional_Chile_2020_03.txt\"\n",
    "\n",
    "#Cada línea = un tweet_id\n",
    "df1 = pd.read_csv(file1, header=None, names=[\"tweet_id\"])\n",
    "df2 = pd.read_csv(file2, header=None, names=[\"tweet_id\"])\n",
    "ids = pd.concat([df1, df2], ignore_index=True).drop_duplicates()\n",
    "\n",
    "print(\"Total de IDs:\", len(ids))\n",
    "\n",
    "#Tomamos una muestra (ej. 200)\n",
    "ids_sample = ids.sample(min(200, len(ids)), random_state=42)\n",
    "ids_sample.head()\n"
   ]
  },
  {
   "cell_type": "code",
   "execution_count": null,
   "id": "de205535-cfa7-4c5c-9814-2d47ea193eec",
   "metadata": {},
   "outputs": [],
   "source": []
  }
 ],
 "metadata": {
  "kernelspec": {
   "display_name": "Python 3 (ipykernel)",
   "language": "python",
   "name": "python3"
  },
  "language_info": {
   "codemirror_mode": {
    "name": "ipython",
    "version": 3
   },
   "file_extension": ".py",
   "mimetype": "text/x-python",
   "name": "python",
   "nbconvert_exporter": "python",
   "pygments_lexer": "ipython3",
   "version": "3.11.7"
  }
 },
 "nbformat": 4,
 "nbformat_minor": 5
}
