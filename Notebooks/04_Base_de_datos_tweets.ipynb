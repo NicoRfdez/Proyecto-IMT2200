{
 "cells": [
  {
   "cell_type": "code",
   "execution_count": 1,
   "id": "e18bed0b-f835-4be3-8f21-f5cce4d8cc93",
   "metadata": {},
   "outputs": [],
   "source": [
    "import tweepy\n",
    "from dotenv import load_dotenv\n",
    "import os"
   ]
  },
  {
   "cell_type": "markdown",
   "id": "78d0c57c-902d-4a1e-9a3d-1094c7709256",
   "metadata": {},
   "source": [
    "### MANEJO DE TOKENS\n",
    "seguir instrucciones de env_example.md"
   ]
  },
  {
   "cell_type": "code",
   "execution_count": 3,
   "id": "5997de49-7fcd-40fa-bbd5-7b75de795ed4",
   "metadata": {},
   "outputs": [],
   "source": [
    "load_dotenv() \n",
    "bearer_token = os.getenv(\"BEARER_TOKEN\")"
   ]
  },
  {
   "cell_type": "code",
   "execution_count": 23,
   "id": "12d8388a-3fb9-483e-a63b-adc8b578f383",
   "metadata": {},
   "outputs": [
    {
     "name": "stdout",
     "output_type": "stream",
     "text": [
      "['..\\\\data\\\\dataverse_files\\\\Plebiscito_Constitucional_Chile_2020_01.txt', '..\\\\data\\\\dataverse_files\\\\Plebiscito_Constitucional_Chile_2020_02.txt', '..\\\\data\\\\dataverse_files\\\\Plebiscito_Constitucional_Chile_2020_03.txt']\n"
     ]
    }
   ],
   "source": [
    "###Manejo de ids y paths\n",
    "archivo_ids = (\"Plebiscito_Constitucional_Chile_2020_01\", \"Plebiscito_Constitucional_Chile_2020_02\", \"Plebiscito_Constitucional_Chile_2020_03\")\n",
    "path = os.path.join(\"..\", \"data\", \"dataverse_files\", f\"Plebiscito_Constitucional_Chile_2020_01.txt\")\n",
    "lista_paths = [] #Creo una lista con los paths a los tres diferentes archivos de texto con con las ids de los tweets\n",
    "for archivo in archivo_ids:\n",
    "    path = os.path.join(\"..\", \"data\", \"dataverse_files\", f\"{archivo}.txt\")\n",
    "    lista_paths.append(path)\n",
    "with open(lista_paths[0], \"r\") as archive:\n",
    "    \n",
    "    \n",
    "    "
   ]
  },
  {
   "cell_type": "code",
   "execution_count": 14,
   "id": "ce5032cc-9ba6-4d65-9fb9-fd2297b3e5ff",
   "metadata": {},
   "outputs": [
    {
     "name": "stdout",
     "output_type": "stream",
     "text": [
      "1319351690840199171\n",
      "\n",
      "1319351681629458433\n",
      "\n"
     ]
    }
   ],
   "source": [
    "with open(path, \"r\") as f:\n",
    "        "
   ]
  },
  {
   "cell_type": "code",
   "execution_count": null,
   "id": "e08d440d-35bc-4bf6-8a01-83f47ba975de",
   "metadata": {},
   "outputs": [],
   "source": []
  }
 ],
 "metadata": {
  "kernelspec": {
   "display_name": "Python 3 (ipykernel)",
   "language": "python",
   "name": "python3"
  },
  "language_info": {
   "codemirror_mode": {
    "name": "ipython",
    "version": 3
   },
   "file_extension": ".py",
   "mimetype": "text/x-python",
   "name": "python",
   "nbconvert_exporter": "python",
   "pygments_lexer": "ipython3",
   "version": "3.12.7"
  }
 },
 "nbformat": 4,
 "nbformat_minor": 5
}
