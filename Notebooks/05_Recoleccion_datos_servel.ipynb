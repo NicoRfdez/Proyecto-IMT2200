{
 "cells": [
  {
   "cell_type": "code",
   "execution_count": 3,
   "id": "ba9a3233-4e18-47e3-b89f-ff302ce53284",
   "metadata": {},
   "outputs": [],
   "source": [
    "import pandas as pd"
   ]
  },
  {
   "cell_type": "code",
   "execution_count": 8,
   "id": "0cc65bd4-a6f3-4431-8e33-eb7cd6585f9e",
   "metadata": {},
   "outputs": [
    {
     "name": "stdout",
     "output_type": "stream",
     "text": [
      "\n",
      " Cargando archivo: ../data/raw/Resultados-Plebiscito-Constitucion-Politica-2020.xlsx\n",
      "\n",
      " Hojas disponibles en el archivo:\n",
      "   1. Chile\n",
      "   2. Extranjero\n",
      "   3. TOTAL\n"
     ]
    }
   ],
   "source": [
    "archivo_servel = '../data/raw/Resultados-Plebiscito-Constitucion-Politica-2020.xlsx' \n",
    "print(f\"\\n Cargando archivo: {archivo_servel}\")\n",
    "    \n",
    "# Si tiene múltiples hojas, primero las listamos\n",
    "excel_file = pd.ExcelFile(archivo_servel)\n",
    "print(f\"\\n Hojas disponibles en el archivo:\")\n",
    "for i, sheet in enumerate(excel_file.sheet_names, 1):\n",
    "    print(f\"   {i}. {sheet}\")"
   ]
  },
  {
   "cell_type": "code",
   "execution_count": 11,
   "id": "a52d05db-76a1-4616-8bb6-65cc4cc3b6aa",
   "metadata": {},
   "outputs": [
    {
     "name": "stdout",
     "output_type": "stream",
     "text": [
      "\n",
      "   Procesando hoja: 'Chile'\n",
      "      - Dimensiones: 178790 filas × 15 columnas\n",
      "      - Columnas: ['Nro. Región', 'Región', 'Provincia', 'Circ.Senatorial', 'Distrito', 'Comuna', 'Circ.Electoral', 'Local', 'Mesa', 'Tipo mesa', 'Mesas Fusionadas', 'Electores', 'Nro.voto', 'Opción Constitución Política', 'Votos TRICEL']\n",
      "       Guardado como: ../data/raw/servel_chile.csv\n",
      "\n",
      "   Procesando hoja: 'Extranjero'\n",
      "      - Dimensiones: 878 filas × 11 columnas\n",
      "      - Columnas: ['Continente', 'País', 'Consulado', 'Circ.Electoral', 'Local', 'Mesa', 'Mesas Fusionadas', 'Electores', 'Nro.voto', 'Opción Constitución Política', 'Votos TRICEL']\n",
      "       Guardado como: ../data/raw/servel_extranjero.csv\n",
      "\n",
      "   Procesando hoja: 'TOTAL'\n",
      "      - Dimensiones: 5 filas × 5 columnas\n",
      "      - Columnas: ['Nro.voto', 'Opción Constitución Política', 'Chile', 'Extranjero', 'Total']\n",
      "       Guardado como: ../data/raw/servel_total.csv\n"
     ]
    }
   ],
   "source": [
    "archivos_generados = []\n",
    "\n",
    "for sheet_name in excel_file.sheet_names:\n",
    "    print(f\"\\n   Procesando hoja: '{sheet_name}'\")\n",
    "    \n",
    "    # Leer la hoja\n",
    "    df_temp = pd.read_excel(archivo_servel, sheet_name=sheet_name)\n",
    "    \n",
    "    # Mostrar información\n",
    "    print(f\"      - Dimensiones: {df_temp.shape[0]} filas × {df_temp.shape[1]} columnas\")\n",
    "    print(f\"      - Columnas: {list(df_temp.columns)}\")\n",
    "    \n",
    "    # Crear nombre de archivo CSV\n",
    "    nombre_csv = sheet_name.lower().replace(' ', '_').replace('ó', 'o').replace('á', 'a')\n",
    "    archivo_csv = f'../data/raw/servel_{nombre_csv}.csv'\n",
    "    \n",
    "    # Guardar como CSV\n",
    "    df_temp.to_csv(archivo_csv, index=False, encoding='utf-8')\n",
    "    archivos_generados.append(archivo_csv)\n",
    "    \n",
    "    print(f\"       Guardado como: {archivo_csv}\")"
   ]
  },
  {
   "cell_type": "code",
   "execution_count": null,
   "id": "38c0a668-be24-49fe-b027-c45e8a2986b3",
   "metadata": {},
   "outputs": [],
   "source": []
  }
 ],
 "metadata": {
  "kernelspec": {
   "display_name": "Python 3 (ipykernel)",
   "language": "python",
   "name": "python3"
  },
  "language_info": {
   "codemirror_mode": {
    "name": "ipython",
    "version": 3
   },
   "file_extension": ".py",
   "mimetype": "text/x-python",
   "name": "python",
   "nbconvert_exporter": "python",
   "pygments_lexer": "ipython3",
   "version": "3.11.7"
  }
 },
 "nbformat": 4,
 "nbformat_minor": 5
}
