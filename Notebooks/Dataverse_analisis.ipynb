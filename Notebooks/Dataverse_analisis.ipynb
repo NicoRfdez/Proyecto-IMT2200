{
 "cells": [
  {
   "cell_type": "markdown",
   "id": "34cb1c99-baf4-4d50-b13d-cea477de3e93",
   "metadata": {},
   "source": [
    "#Notebook para primer analisis los datos de https://dataverse.harvard.edu/dataset.xhtml?persistentId=doi:10.7910/DVN/WGU9RW"
   ]
  },
  {
   "cell_type": "code",
   "execution_count": null,
   "id": "89467246-f06f-4236-9cff-282e28e90a3b",
   "metadata": {},
   "outputs": [],
   "source": [
    "Vamos a usar la API de X (Antes twitter) tweepy para poder acceder a los twits\n"
   ]
  },
  {
   "cell_type": "code",
   "execution_count": 2,
   "id": "331bc76e-af2b-4bf1-b417-a48e0e4fb7c8",
   "metadata": {},
   "outputs": [],
   "source": [
    "#Librerias\n",
    "import pandas as pd\n",
    "import os\n",
    "from pathlib import Path\n",
    "import tweepy\n",
    "import requests"
   ]
  },
  {
   "cell_type": "code",
   "execution_count": 4,
   "id": "64724576-e33a-452b-8a10-64cb3d78e42a",
   "metadata": {},
   "outputs": [],
   "source": [
    "path_token = Path.home()/\"Desktop\"/\"tokensX\"/\"bearer_token.txt\"\n",
    "with open(path_token, \"r\") as t: #Obtengo la token desde mi pc\n",
    "    BEARER_TOKEN = \"\"\n",
    "    for i in t:\n",
    "        BEARER_TOKEN += i\n",
    "        \n",
    "with open(\"../data/dataverse_files/Plebiscito_Constitucional_Chile_2020_01.txt\", \"r\") as f: ###Por desarrollar \n",
    "    tweet_id = f.readline()\n",
    "    client = tweepy.Client(bearer_token=BEARER_TOKEN, wait_on_rate_limit=True)  \n",
    "#print(tweet_id)"
   ]
  },
  {
   "cell_type": "markdown",
   "id": "b6a0395c-b2cb-44ed-ac33-23a1d9f26fdf",
   "metadata": {},
   "source": [
    "ahora creo una funcion para ver la info de cada tweet_id"
   ]
  },
  {
   "cell_type": "code",
   "execution_count": 9,
   "id": "93b4b27d-9e0f-494e-97b1-29939bc0d2e8",
   "metadata": {},
   "outputs": [
    {
     "name": "stdout",
     "output_type": "stream",
     "text": [
      "<Response [429]>\n"
     ]
    }
   ],
   "source": [
    "url = \"https://api.twitter.com/2/tweets/1319351690840199\"\n",
    "headers = {\"Authorization\": f\"Bearer {BEARER_TOKEN}\"}\n",
    "params = {\n",
    "        \"tweet.fields\": \"created_at,public_metrics,lang,conversation_id\",\n",
    "        \"expansions\": \"author_id\",\n",
    "        \"user.fields\": \"id,username,name\"\n",
    "    }\n",
    "resp = requests.get(url, headers=headers, params=params, timeout=10)\n",
    "if resp == 200:\n",
    "    print(resp.content)\n",
    "print(resp)"
   ]
  },
  {
   "cell_type": "code",
   "execution_count": null,
   "id": "849000c9-5a0f-4765-a68c-2066f672edbf",
   "metadata": {},
   "outputs": [],
   "source": []
  },
  {
   "cell_type": "code",
   "execution_count": null,
   "id": "9d7b43e3-bdea-4296-9b0e-1217300eb5b0",
   "metadata": {},
   "outputs": [],
   "source": []
  },
  {
   "cell_type": "code",
   "execution_count": null,
   "id": "eb20fcff-551b-4d2f-a2d2-de9312eeb357",
   "metadata": {},
   "outputs": [],
   "source": []
  }
 ],
 "metadata": {
  "kernelspec": {
   "display_name": "Python 3 (ipykernel)",
   "language": "python",
   "name": "python3"
  },
  "language_info": {
   "codemirror_mode": {
    "name": "ipython",
    "version": 3
   },
   "file_extension": ".py",
   "mimetype": "text/x-python",
   "name": "python",
   "nbconvert_exporter": "python",
   "pygments_lexer": "ipython3",
   "version": "3.12.7"
  }
 },
 "nbformat": 4,
 "nbformat_minor": 5
}
