{
 "cells": [
  {
   "cell_type": "markdown",
   "id": "34cb1c99-baf4-4d50-b13d-cea477de3e93",
   "metadata": {},
   "source": [
    "#Notebook para primer analisis los datos de https://dataverse.harvard.edu/dataset.xhtml?persistentId=doi:10.7910/DVN/WGU9RW"
   ]
  },
  {
   "cell_type": "code",
   "execution_count": null,
   "id": "89467246-f06f-4236-9cff-282e28e90a3b",
   "metadata": {},
   "outputs": [],
   "source": [
    "Vamos a usar la API de X (Antes twitter) tweepy para poder acceder a los twits\n"
   ]
  },
  {
   "cell_type": "code",
   "execution_count": 2,
   "id": "331bc76e-af2b-4bf1-b417-a48e0e4fb7c8",
   "metadata": {},
   "outputs": [],
   "source": [
    "#Librerias\n",
    "import pandas as pd\n",
    "import os\n",
    "from pathlib import Path\n",
    "import tweepy"
   ]
  },
  {
   "cell_type": "code",
   "execution_count": 3,
   "id": "64724576-e33a-452b-8a10-64cb3d78e42a",
   "metadata": {},
   "outputs": [
    {
     "name": "stdout",
     "output_type": "stream",
     "text": [
      "<class 'str'>\n"
     ]
    }
   ],
   "source": [
    "path_token = Path.home()/\"Desktop\"/\"tokensX\"/\"bearer_token.txt\"\n",
    "with open(path_token, \"r\") as t: #Obtengo la token desde mi pc\n",
    "    BEARER_TOKEN = t.readline()\n",
    "        \n",
    "with open(\"../data/dataverse_files/Plebiscito_Constitucional_Chile_2020_01.txt\", \"r\") as f: ###Por desarrollar \n",
    "    tweet_id = f.readline()\n",
    "    client = tweepy.Client(bearer_token=BEARER_TOKEN, wait_on_rate_limit=True)  \n",
    "token = BEARER_TOKEN\n",
    "#print(tweet_id)\n",
    "#print(BEARER_TOKEN)\n",
    "print(type(tweet_id))\n",
    "tweeet = 978165321199456563"
   ]
  },
  {
   "cell_type": "markdown",
   "id": "b6a0395c-b2cb-44ed-ac33-23a1d9f26fdf",
   "metadata": {},
   "source": [
    "ahora creo una funcion para ver la info de cada tweet_id"
   ]
  },
  {
   "cell_type": "code",
   "execution_count": 4,
   "id": "93b4b27d-9e0f-494e-97b1-29939bc0d2e8",
   "metadata": {},
   "outputs": [
    {
     "name": "stdout",
     "output_type": "stream",
     "text": [
      "no se encontro el tweet\n"
     ]
    }
   ],
   "source": [
    "client = tweepy.Client(bearer_token=token, wait_on_rate_limit=True)\n",
    "try:\n",
    "    respuesta = client.get_tweet(tweeet)\n",
    "    data_respuesta = respuesta.data\n",
    "    if data_respuesta:\n",
    "        print(data_respuesta)\n",
    "    else:\n",
    "        print(\"no se encontro el tweet\")\n",
    "except Exception as e:\n",
    "    print(f\"Error {e}\")"
   ]
  },
  {
   "cell_type": "code",
   "execution_count": null,
   "id": "849000c9-5a0f-4765-a68c-2066f672edbf",
   "metadata": {},
   "outputs": [],
   "source": []
  },
  {
   "cell_type": "code",
   "execution_count": null,
   "id": "9d7b43e3-bdea-4296-9b0e-1217300eb5b0",
   "metadata": {},
   "outputs": [],
   "source": []
  },
  {
   "cell_type": "code",
   "execution_count": null,
   "id": "eb20fcff-551b-4d2f-a2d2-de9312eeb357",
   "metadata": {},
   "outputs": [],
   "source": []
  }
 ],
 "metadata": {
  "kernelspec": {
   "display_name": "Python 3 (ipykernel)",
   "language": "python",
   "name": "python3"
  },
  "language_info": {
   "codemirror_mode": {
    "name": "ipython",
    "version": 3
   },
   "file_extension": ".py",
   "mimetype": "text/x-python",
   "name": "python",
   "nbconvert_exporter": "python",
   "pygments_lexer": "ipython3",
   "version": "3.12.7"
  }
 },
 "nbformat": 4,
 "nbformat_minor": 5
}
