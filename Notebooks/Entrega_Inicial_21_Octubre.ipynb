{
 "cells": [
  {
   "cell_type": "markdown",
   "id": "ebf5c1d1-1104-4c38-96be-60c0e02ce5f3",
   "metadata": {},
   "source": [
    "# Entrega Inicial del Repositorio \n",
    "**Fecha Entrega**: 21 de octubre \n",
    "\n",
    "**Integrantes**: \n",
    "- Victoria Otarola\n",
    "- Nicolás Abarzua\n",
    "- Nicolas Rojas\n",
    "\n",
    "**Objetivo de la entrega**: Esta entrega tiene como objetivo consolidar el trabajo realizado hasta la etapa de análisis exploratorio de datos (EDA), dejando documentado el contexto del proyecto, las preguntas que guían el análisis, las fuentes de datos utilizadas y una primera aproximación a su exploracion. "
   ]
  },
  {
   "cell_type": "markdown",
   "id": "413c129c-45a5-4702-b279-f45638b1c6cb",
   "metadata": {},
   "source": [
    "## Contexto y Motivacion\n",
    "\n",
    "Las refes sociales se han consolidado como espacios fundamentales en la counicacion política contemporánea. En Chile, procesos como el plebiscito constitucional de 2020 y las elecciones presidenciales recientes han evidenciado el protagonismo de plataformas de conversación como Twitter o Reddit en la conversacion pública.\n",
    "\n",
    "Este fenómenos se caracteriza por su polarizacion: los usuarios tienden a agruparse en comunidades ideológicas cerradas, interactuando principalmente con quienes comparten sus visiones y rechazando discursos contrarios. Esta dinámica no solo refleja las divisiones políticas existentes, sino que puede amplificarlas, influyendo en la construcción de opiniones e ideologías políticas.\n",
    "\n",
    "### ¿Por qué consideramos importante este análisis?\n",
    "\n",
    "- **Calidad democrática:** La polarización excesiva puede afectar la calidad\n",
    "  del debate democrático y la confianza en las instituciones y autoridades.\n",
    "- **Evidencia empírica:** Al hacer investigación para este proyecto, nos\n",
    "  dimos cuenta que existe escasa investigación cuantitativa sobre cómo\n",
    "  evoluciona la polarización digital en Chile durante procesos electorales\n",
    "- **Toma de decisiones:** Creemos que este tipo de análisis puede ser una\n",
    "  contribución para ayudar a la ciudadanía y especíalmente a los usuarios de\n",
    "  redes sociales a comprender mejor este tipo de fenómenos\n",
    "\n",
    "### Referencias\n",
    "- [https://moderndiplomacy.eu/2024/09/19/the-power-of-social-media-to\n",
    "  influence-political-views-and-geopolitical-issues-tiktok-x-and-instagram/]\n",
    "- [https://www.georgetown.edu/news/ask-a-professor-renee-diresta-how-social\n",
    "  media-can-shape-public-opinion/]\n",
    "- https://www.economist.com/the-economist-explains/2016/03/28/how-are-social-media-changing-democracy?utm_medium=cpc.adword.pd&utm_source=google&ppccampaignID=19495686130&ppcadID=&utm_campaign=a.22brand_pmax&utm_content=conversion.direct-response.anonymous&gclsrc=aw.ds&gad_source=1&gad_campaignid=19495464887&gbraid=0AAAAADBuq3KzmqoFT81Oql6YVzIyf84U3&gclid=CjwKCAjwu9fHBhAWEiwAzGRC_4BB49qSiQsGg8hBlDya6eUMoX-r4j1JrKTLaV94xTlpByT4mgqD9RoCWWUQAvD_BwE"
   ]
  },
  {
   "cell_type": "markdown",
   "id": "f5b70952-6bdc-4252-a9f6-d6b11fa2d9e4",
   "metadata": {},
   "source": [
    "## Preguntas Objetivo\n",
    "\n",
    "**Evolución temporal:** \"¿Cómo cambia el nivel de polarización en el discurso\n",
    "político en diferentes redes sociales en las semanas y días previos a una elección?\". \n",
    "Primeramente esta pregunta estaba enfocada en los datos que pudieramos extraer de X (Twitter), tras el analisis exploratorio de datos, vimos un problema de accesibilidad a estos, por lo que decidimos utilizar datos de otras redes sociales, sin limitarnos en una sola (X en este caso), esta limitación no significa que no utilizaremos data de X, si no mas bien que vamos a usar todos los datos posibles de diferentes fuentes para robustecer nuestra base de datos y poder desarrollar esta y las demas preguntas de una mejor manera.\n",
    "\n",
    "\n",
    "**Difusión de narrativas:** ¿Que tipos de narrativas (ej.: miedo, esperanza,\n",
    "desconfianza institucional) se propagan con mayor rapidez en redes sociales\n",
    "durante periodos electorales y que rol juegan en intensificar la polarización?\n",
    "\n",
    "\n",
    "**Actores y temas polarizadores:** ¿Qué partidos, candidatos o temas generan mayor polarización en redes sociales y cómo se distribuyen las comunidades de usuarios alrededor de ellos? En proceso...\n",
    "\n",
    "**Desinformación y bots:** ¿Qué tan presentes están los bots o cuentas automatizadas en la discusión política, y como influyen en el nivel de polarización detectado en comparación con usuarios reales? Hay mucha informacion respecto a publicaciones sobre el plebiscito pero tenemos que primero trabajar con esto y filtrar los mensajes para evrificar cuales son bots o cuales no hablan sobre este tema en especifico.\n",
    "\n",
    "\n",
    "**Predicción:** ¿Puede la intensidad y polarización del discurso en redes sociales predecir, al menos parcialmente, la proporción de votos de un candidato o el nivel de participación en un plebiscito?. \"Realizaremos un análisis comparativo entre la actividad y el sentimiento expresado en redes sociales sobre las opciones 'Apruebo' y 'Rechazo', y contrastar dichos datos con los resultados electorales oficiales publicados por el SERVEL para el plebiscito.\"\n",
    "\n",
    "\n",
    "**Exposición cruzada de información:** ¿Qué tan aisladas están las comunidades digitales polarizadas? ¿Existen “puentes” de usuarios que conectan ambos lados del debate, o son comunidades prácticamente incomunicadas?. En proceso..\n",
    "\n",
    "**Conexión con datos oficiales:**¿Existe una relación entre el nivel de polarización observado en redes sociales y variables electorales del SERVEL, como participación ciudadana, resultados de votación y gasto en campañas?. Vamos a comparar los datos oficiales de servel con las publicaciones subidas a las redes sociales.\n",
    "\n",
    "**Conexión con política institucional:** ¿Se observan patrones similares entre el debate digital polarizado en Twitter/X y menciones o discusiones registradas en el Congreso Nacional, reflejando un posible “efecto espejo” entre redes sociales y el ámbito legislativo? En proceso .. \n",
    "\n",
    "**Lenguaje emocional vs. Informativo:** ¿En qué medida los mensajes cargados de emoción (rabia, entusiasmo, indignación) tienen más alcance que los mensajes informativos o neutrales? En proceso ...\n",
    " \n",
    "**Velocidad y alcance de la polarización:** ¿Los mensajes más polarizantes viajan más rápido y llegan a más usuarios que los mensajes moderados? ¿Que métricas de difusión (retuits, interacciones) respaldan esta diferencia? En proceso .. "
   ]
  },
  {
   "cell_type": "code",
   "execution_count": null,
   "id": "068223b0-a89f-42ac-a1f8-cd2b09157f46",
   "metadata": {},
   "outputs": [],
   "source": []
  }
 ],
 "metadata": {
  "kernelspec": {
   "display_name": "Python 3 (ipykernel)",
   "language": "python",
   "name": "python3"
  },
  "language_info": {
   "codemirror_mode": {
    "name": "ipython",
    "version": 3
   },
   "file_extension": ".py",
   "mimetype": "text/x-python",
   "name": "python",
   "nbconvert_exporter": "python",
   "pygments_lexer": "ipython3",
   "version": "3.12.7"
  }
 },
 "nbformat": 4,
 "nbformat_minor": 5
}
