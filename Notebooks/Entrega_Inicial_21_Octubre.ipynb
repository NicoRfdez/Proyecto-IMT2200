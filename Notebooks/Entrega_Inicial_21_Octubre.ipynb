{
 "cells": [
  {
   "cell_type": "markdown",
   "id": "ebf5c1d1-1104-4c38-96be-60c0e02ce5f3",
   "metadata": {},
   "source": [
    "# Entrega Inicial del Repositorio \n",
    "**Fecha Entrega**: 21 de octubre \n",
    "\n",
    "**Integrantes**: \n",
    "- Victoria Otarola\n",
    "- Nicolás Abarzua\n",
    "- Nicolas Rojas\n",
    "\n",
    "**Objetivo de la entrega**: Esta entrega tiene como objetivo consolidar el trabajo realizado hasta la etapa de análisis exploratorio de datos (EDA), dejando documentado el contexto del proyecto, las preguntas que guían el análisis, las fuentes de datos utilizadas y una primera aproximación a su exploracion. "
   ]
  },
  {
   "cell_type": "markdown",
   "id": "413c129c-45a5-4702-b279-f45638b1c6cb",
   "metadata": {},
   "source": [
    "## Contexto y Motivacion\n",
    "\n",
    "Las refes sociales se han consolidado como espacios fundamentales en la counicacion política contemporánea. En Chile, procesos como el plebiscito constitucional de 2020 y las elecciones presidenciales recientes han evidenciado el protagonismo de plataformas de conversación como Twitter o Reddit en la conversacion pública.\n",
    "\n",
    "Este fenómenos se caracteriza por su polarizacion: los usuarios tienden a agruparse en comunidades ideológicas cerradas, interactuando principalmente con quienes comparten sus visiones y rechazando discursos contrarios. Esta dinámica no solo refleja las divisiones políticas existentes, sino que puede amplificarlas, influyendo en la construcción de opiniones e ideologías políticas.\n",
    "\n",
    "### ¿Por qué consideramos importante este análisis?\n",
    "\n",
    "- **Calidad democrática:** La polarización excesiva puede afectar la calidad\n",
    "  del debate democrático y la confianza en las instituciones y autoridades.\n",
    "- **Evidencia empírica:** Al hacer investigación para este proyecto, nos\n",
    "  dimos cuenta que existe escasa investigación cuantitativa sobre cómo\n",
    "  evoluciona la polarización digital en Chile durante procesos electorales\n",
    "- **Toma de decisiones:** Creemos que este tipo de análisis puede ser una\n",
    "  contribución para ayudar a la ciudadanía y especíalmente a los usuarios de\n",
    "  redes sociales a comprender mejor este tipo de fenómenos\n",
    "\n",
    "### Referencias\n",
    "- [https://moderndiplomacy.eu/2024/09/19/the-power-of-social-media-to\n",
    "  influence-political-views-and-geopolitical-issues-tiktok-x-and-instagram/]\n",
    "- [https://www.georgetown.edu/news/ask-a-professor-renee-diresta-how-social\n",
    "  media-can-shape-public-opinion/]\n",
    "- https://www.economist.com/the-economist-explains/2016/03/28/how-are-social-media-changing-democracy?utm_medium=cpc.adword.pd&utm_source=google&ppccampaignID=19495686130&ppcadID=&utm_campaign=a.22brand_pmax&utm_content=conversion.direct-response.anonymous&gclsrc=aw.ds&gad_source=1&gad_campaignid=19495464887&gbraid=0AAAAADBuq3KzmqoFT81Oql6YVzIyf84U3&gclid=CjwKCAjwu9fHBhAWEiwAzGRC_4BB49qSiQsGg8hBlDya6eUMoX-r4j1JrKTLaV94xTlpByT4mgqD9RoCWWUQAvD_BwE"
   ]
  },
  {
   "cell_type": "markdown",
   "id": "f5b70952-6bdc-4252-a9f6-d6b11fa2d9e4",
   "metadata": {},
   "source": [
    "## Preguntas Objetivo\n"
   ]
  }
 ],
 "metadata": {
  "kernelspec": {
   "display_name": "Python 3 (ipykernel)",
   "language": "python",
   "name": "python3"
  },
  "language_info": {
   "codemirror_mode": {
    "name": "ipython",
    "version": 3
   },
   "file_extension": ".py",
   "mimetype": "text/x-python",
   "name": "python",
   "nbconvert_exporter": "python",
   "pygments_lexer": "ipython3",
   "version": "3.11.7"
  }
 },
 "nbformat": 4,
 "nbformat_minor": 5
}
